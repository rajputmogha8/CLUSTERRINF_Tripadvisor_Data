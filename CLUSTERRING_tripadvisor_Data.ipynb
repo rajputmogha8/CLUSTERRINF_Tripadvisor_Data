{
 "cells": [
  {
   "cell_type": "code",
   "execution_count": 1,
   "metadata": {},
   "outputs": [],
   "source": [
    "import pandas as pd\n",
    "import numpy as np\n",
    "import matplotlib.pyplot as plt\n",
    "import seaborn as sns\n",
    "import os"
   ]
  },
  {
   "cell_type": "code",
   "execution_count": 2,
   "metadata": {},
   "outputs": [
    {
     "data": {
      "text/plain": [
       "'C:\\\\Users\\\\Garima\\\\Desktop\\\\DATA SCIENCE\\\\python\\\\CLUSTERRING'"
      ]
     },
     "execution_count": 2,
     "metadata": {},
     "output_type": "execute_result"
    }
   ],
   "source": [
    "os.getcwd()"
   ]
  },
  {
   "cell_type": "code",
   "execution_count": 3,
   "metadata": {},
   "outputs": [],
   "source": [
    "data =pd.read_csv(\"tripadvisor.csv\")"
   ]
  },
  {
   "cell_type": "code",
   "execution_count": 4,
   "metadata": {},
   "outputs": [],
   "source": [
    "# data1 = pd.get_dummies(data,drop_first=True)"
   ]
  },
  {
   "cell_type": "code",
   "execution_count": 5,
   "metadata": {},
   "outputs": [],
   "source": [
    "# data2 = data1.values\n",
    "# data"
   ]
  },
  {
   "cell_type": "code",
   "execution_count": 6,
   "metadata": {},
   "outputs": [
    {
     "data": {
      "text/html": [
       "<div>\n",
       "<style scoped>\n",
       "    .dataframe tbody tr th:only-of-type {\n",
       "        vertical-align: middle;\n",
       "    }\n",
       "\n",
       "    .dataframe tbody tr th {\n",
       "        vertical-align: top;\n",
       "    }\n",
       "\n",
       "    .dataframe thead th {\n",
       "        text-align: right;\n",
       "    }\n",
       "</style>\n",
       "<table border=\"1\" class=\"dataframe\">\n",
       "  <thead>\n",
       "    <tr style=\"text-align: right;\">\n",
       "      <th></th>\n",
       "      <th>Category 1</th>\n",
       "      <th>Category 2</th>\n",
       "      <th>Category 3</th>\n",
       "      <th>Category 4</th>\n",
       "      <th>Category 5</th>\n",
       "      <th>Category 6</th>\n",
       "      <th>Category 7</th>\n",
       "      <th>Category 8</th>\n",
       "      <th>Category 9</th>\n",
       "      <th>Category 10</th>\n",
       "    </tr>\n",
       "  </thead>\n",
       "  <tbody>\n",
       "    <tr>\n",
       "      <th>count</th>\n",
       "      <td>980.000000</td>\n",
       "      <td>980.000000</td>\n",
       "      <td>980.000000</td>\n",
       "      <td>980.000000</td>\n",
       "      <td>980.000000</td>\n",
       "      <td>980.000000</td>\n",
       "      <td>980.000000</td>\n",
       "      <td>980.000000</td>\n",
       "      <td>980.000000</td>\n",
       "      <td>980.000000</td>\n",
       "    </tr>\n",
       "    <tr>\n",
       "      <th>mean</th>\n",
       "      <td>0.893194</td>\n",
       "      <td>1.352612</td>\n",
       "      <td>1.013306</td>\n",
       "      <td>0.532500</td>\n",
       "      <td>0.939735</td>\n",
       "      <td>1.842898</td>\n",
       "      <td>3.180939</td>\n",
       "      <td>2.835061</td>\n",
       "      <td>1.569439</td>\n",
       "      <td>2.799224</td>\n",
       "    </tr>\n",
       "    <tr>\n",
       "      <th>std</th>\n",
       "      <td>0.326912</td>\n",
       "      <td>0.478280</td>\n",
       "      <td>0.788607</td>\n",
       "      <td>0.279731</td>\n",
       "      <td>0.437430</td>\n",
       "      <td>0.539538</td>\n",
       "      <td>0.007824</td>\n",
       "      <td>0.137505</td>\n",
       "      <td>0.364629</td>\n",
       "      <td>0.321380</td>\n",
       "    </tr>\n",
       "    <tr>\n",
       "      <th>min</th>\n",
       "      <td>0.340000</td>\n",
       "      <td>0.000000</td>\n",
       "      <td>0.130000</td>\n",
       "      <td>0.150000</td>\n",
       "      <td>0.060000</td>\n",
       "      <td>0.140000</td>\n",
       "      <td>3.160000</td>\n",
       "      <td>2.420000</td>\n",
       "      <td>0.740000</td>\n",
       "      <td>2.140000</td>\n",
       "    </tr>\n",
       "    <tr>\n",
       "      <th>25%</th>\n",
       "      <td>0.670000</td>\n",
       "      <td>1.080000</td>\n",
       "      <td>0.270000</td>\n",
       "      <td>0.410000</td>\n",
       "      <td>0.640000</td>\n",
       "      <td>1.460000</td>\n",
       "      <td>3.180000</td>\n",
       "      <td>2.740000</td>\n",
       "      <td>1.310000</td>\n",
       "      <td>2.540000</td>\n",
       "    </tr>\n",
       "    <tr>\n",
       "      <th>50%</th>\n",
       "      <td>0.830000</td>\n",
       "      <td>1.280000</td>\n",
       "      <td>0.820000</td>\n",
       "      <td>0.500000</td>\n",
       "      <td>0.900000</td>\n",
       "      <td>1.800000</td>\n",
       "      <td>3.180000</td>\n",
       "      <td>2.820000</td>\n",
       "      <td>1.540000</td>\n",
       "      <td>2.780000</td>\n",
       "    </tr>\n",
       "    <tr>\n",
       "      <th>75%</th>\n",
       "      <td>1.020000</td>\n",
       "      <td>1.560000</td>\n",
       "      <td>1.572500</td>\n",
       "      <td>0.580000</td>\n",
       "      <td>1.200000</td>\n",
       "      <td>2.200000</td>\n",
       "      <td>3.180000</td>\n",
       "      <td>2.910000</td>\n",
       "      <td>1.760000</td>\n",
       "      <td>3.040000</td>\n",
       "    </tr>\n",
       "    <tr>\n",
       "      <th>max</th>\n",
       "      <td>3.220000</td>\n",
       "      <td>3.640000</td>\n",
       "      <td>3.620000</td>\n",
       "      <td>3.440000</td>\n",
       "      <td>3.300000</td>\n",
       "      <td>3.760000</td>\n",
       "      <td>3.210000</td>\n",
       "      <td>3.390000</td>\n",
       "      <td>3.170000</td>\n",
       "      <td>3.660000</td>\n",
       "    </tr>\n",
       "  </tbody>\n",
       "</table>\n",
       "</div>"
      ],
      "text/plain": [
       "       Category 1  Category 2  Category 3  Category 4  Category 5  Category 6  \\\n",
       "count  980.000000  980.000000  980.000000  980.000000  980.000000  980.000000   \n",
       "mean     0.893194    1.352612    1.013306    0.532500    0.939735    1.842898   \n",
       "std      0.326912    0.478280    0.788607    0.279731    0.437430    0.539538   \n",
       "min      0.340000    0.000000    0.130000    0.150000    0.060000    0.140000   \n",
       "25%      0.670000    1.080000    0.270000    0.410000    0.640000    1.460000   \n",
       "50%      0.830000    1.280000    0.820000    0.500000    0.900000    1.800000   \n",
       "75%      1.020000    1.560000    1.572500    0.580000    1.200000    2.200000   \n",
       "max      3.220000    3.640000    3.620000    3.440000    3.300000    3.760000   \n",
       "\n",
       "       Category 7  Category 8  Category 9  Category 10  \n",
       "count  980.000000  980.000000  980.000000   980.000000  \n",
       "mean     3.180939    2.835061    1.569439     2.799224  \n",
       "std      0.007824    0.137505    0.364629     0.321380  \n",
       "min      3.160000    2.420000    0.740000     2.140000  \n",
       "25%      3.180000    2.740000    1.310000     2.540000  \n",
       "50%      3.180000    2.820000    1.540000     2.780000  \n",
       "75%      3.180000    2.910000    1.760000     3.040000  \n",
       "max      3.210000    3.390000    3.170000     3.660000  "
      ]
     },
     "execution_count": 6,
     "metadata": {},
     "output_type": "execute_result"
    }
   ],
   "source": [
    "data.describe()"
   ]
  },
  {
   "cell_type": "code",
   "execution_count": 7,
   "metadata": {},
   "outputs": [],
   "source": [
    "data1=data.copy()"
   ]
  },
  {
   "cell_type": "code",
   "execution_count": 8,
   "metadata": {},
   "outputs": [
    {
     "data": {
      "text/plain": [
       "Index(['User ID', 'Category 1', 'Category 2', 'Category 3', 'Category 4',\n",
       "       'Category 5', 'Category 6', 'Category 7', 'Category 8', 'Category 9',\n",
       "       'Category 10'],\n",
       "      dtype='object')"
      ]
     },
     "execution_count": 8,
     "metadata": {},
     "output_type": "execute_result"
    }
   ],
   "source": [
    "data1.columns"
   ]
  },
  {
   "cell_type": "code",
   "execution_count": 14,
   "metadata": {},
   "outputs": [],
   "source": [
    "data1.drop(['User ID'],axis=1,inplace=True)"
   ]
  },
  {
   "cell_type": "code",
   "execution_count": 15,
   "metadata": {},
   "outputs": [
    {
     "data": {
      "text/plain": [
       "Index(['Category 1', 'Category 2', 'Category 3', 'Category 4', 'Category 5',\n",
       "       'Category 6', 'Category 7', 'Category 8', 'Category 9', 'Category 10'],\n",
       "      dtype='object')"
      ]
     },
     "execution_count": 15,
     "metadata": {},
     "output_type": "execute_result"
    }
   ],
   "source": [
    "data1.columns"
   ]
  },
  {
   "cell_type": "code",
   "execution_count": 16,
   "metadata": {},
   "outputs": [],
   "source": [
    "data2 = data1.values"
   ]
  },
  {
   "cell_type": "code",
   "execution_count": 17,
   "metadata": {},
   "outputs": [
    {
     "data": {
      "text/plain": [
       "array([[0.93, 1.8 , 2.29, ..., 2.79, 1.82, 2.42],\n",
       "       [1.02, 2.2 , 2.66, ..., 2.63, 1.86, 2.32],\n",
       "       [1.22, 0.8 , 0.54, ..., 2.8 , 1.31, 2.5 ],\n",
       "       ...,\n",
       "       [0.61, 1.32, 0.67, ..., 2.81, 1.34, 3.02],\n",
       "       [0.93, 0.2 , 0.13, ..., 2.98, 1.12, 2.46],\n",
       "       [0.93, 0.56, 1.13, ..., 2.87, 1.34, 2.4 ]])"
      ]
     },
     "execution_count": 17,
     "metadata": {},
     "output_type": "execute_result"
    }
   ],
   "source": [
    "data2"
   ]
  },
  {
   "cell_type": "code",
   "execution_count": 18,
   "metadata": {},
   "outputs": [],
   "source": [
    "from sklearn.cluster import KMeans"
   ]
  },
  {
   "cell_type": "code",
   "execution_count": 19,
   "metadata": {},
   "outputs": [],
   "source": [
    "k = range(1,4)\n",
    "centroid=[]\n",
    "\n",
    "for i in k:\n",
    "    model=KMeans(n_clusters=i)\n",
    "    model.fit(data2)\n",
    "    centroid.append(model.inertia_)"
   ]
  },
  {
   "cell_type": "code",
   "execution_count": 20,
   "metadata": {},
   "outputs": [
    {
     "data": {
      "text/plain": [
       "[1736.1868143877546, 1179.7610482349546, 1052.3743960430013]"
      ]
     },
     "execution_count": 20,
     "metadata": {},
     "output_type": "execute_result"
    }
   ],
   "source": [
    "centroid"
   ]
  },
  {
   "cell_type": "code",
   "execution_count": 21,
   "metadata": {},
   "outputs": [
    {
     "data": {
      "image/png": "[encoded data removed]",
      "text/plain": [
       "<Figure size 432x288 with 1 Axes>"
      ]
     },
     "metadata": {
      "needs_background": "light"
     },
     "output_type": "display_data"
    }
   ],
   "source": [
    "plt.plot(k,centroid,'-o')\n",
    "plt.show()"
   ]
  },
  {
   "cell_type": "code",
   "execution_count": 22,
   "metadata": {},
   "outputs": [],
   "source": [
    "model1= KMeans(n_clusters=4)"
   ]
  },
  {
   "cell_type": "code",
   "execution_count": 23,
   "metadata": {},
   "outputs": [
    {
     "data": {
      "text/plain": [
       "KMeans(n_clusters=4)"
      ]
     },
     "execution_count": 23,
     "metadata": {},
     "output_type": "execute_result"
    }
   ],
   "source": [
    "model1"
   ]
  },
  {
   "cell_type": "code",
   "execution_count": 24,
   "metadata": {},
   "outputs": [
    {
     "data": {
      "text/plain": [
       "KMeans(n_clusters=4)"
      ]
     },
     "execution_count": 24,
     "metadata": {},
     "output_type": "execute_result"
    }
   ],
   "source": [
    "model1.fit(data2)"
   ]
  },
  {
   "cell_type": "code",
   "execution_count": 25,
   "metadata": {},
   "outputs": [],
   "source": [
    "label = model1.fit_predict(data2)"
   ]
  },
  {
   "cell_type": "code",
   "execution_count": 26,
   "metadata": {},
   "outputs": [
    {
     "data": {
      "text/plain": [
       "array([1, 1, 0, 0, 3, 0, 0, 0, 3, 3, 3, 3, 2, 2, 1, 1, 2, 2, 1, 2, 3, 3,\n",
       "       0, 0, 3, 2, 1, 3, 0, 1, 2, 2, 1, 3, 0, 0, 0, 0, 2, 0, 3, 0, 3, 3,\n",
       "       3, 0, 0, 3, 3, 2, 3, 2, 3, 3, 0, 0, 2, 0, 1, 1, 1, 0, 0, 0, 3, 0,\n",
       "       2, 0, 2, 0, 0, 2, 3, 2, 2, 1, 0, 2, 0, 3, 0, 3, 0, 3, 3, 0, 0, 0,\n",
       "       3, 3, 0, 0, 1, 1, 1, 0, 2, 2, 2, 3, 3, 0, 1, 0, 0, 2, 3, 0, 0, 1,\n",
       "       3, 2, 3, 2, 2, 3, 3, 3, 0, 3, 1, 3, 1, 3, 1, 0, 0, 3, 3, 0, 2, 1,\n",
       "       1, 1, 3, 3, 2, 2, 3, 0, 3, 0, 3, 0, 3, 3, 3, 1, 3, 1, 3, 3, 0, 3,\n",
       "       0, 0, 3, 0, 1, 0, 2, 0, 3, 0, 0, 0, 2, 3, 2, 2, 3, 0, 0, 0, 3, 3,\n",
       "       3, 0, 3, 0, 0, 1, 1, 2, 1, 3, 3, 0, 1, 0, 2, 2, 0, 3, 3, 0, 2, 1,\n",
       "       0, 3, 1, 3, 2, 0, 0, 0, 3, 0, 2, 0, 2, 2, 3, 0, 0, 1, 0, 0, 1, 2,\n",
       "       3, 0, 2, 0, 1, 0, 3, 2, 3, 2, 0, 1, 0, 0, 3, 3, 1, 3, 3, 0, 2, 1,\n",
       "       0, 0, 0, 0, 0, 1, 0, 3, 2, 0, 2, 2, 0, 3, 0, 3, 0, 2, 3, 1, 3, 1,\n",
       "       0, 1, 1, 3, 0, 1, 3, 0, 2, 2, 3, 0, 2, 3, 0, 3, 2, 3, 2, 1, 3, 0,\n",
       "       3, 3, 3, 3, 1, 0, 0, 0, 0, 0, 0, 2, 2, 3, 0, 2, 2, 0, 1, 0, 3, 1,\n",
       "       0, 2, 0, 0, 2, 1, 3, 3, 1, 0, 2, 0, 3, 0, 3, 0, 0, 1, 1, 1, 1, 3,\n",
       "       3, 2, 0, 3, 0, 1, 2, 0, 3, 0, 1, 1, 2, 2, 3, 0, 3, 0, 2, 1, 0, 0,\n",
       "       1, 0, 0, 0, 3, 2, 3, 0, 0, 1, 1, 0, 3, 1, 3, 3, 2, 3, 2, 2, 3, 1,\n",
       "       3, 1, 1, 3, 0, 3, 0, 0, 3, 2, 0, 1, 1, 3, 0, 0, 1, 0, 1, 0, 3, 2,\n",
       "       2, 3, 0, 1, 0, 2, 3, 0, 1, 1, 2, 1, 1, 1, 3, 3, 1, 1, 3, 2, 0, 0,\n",
       "       0, 1, 2, 0, 3, 0, 1, 3, 1, 0, 0, 3, 2, 1, 1, 1, 1, 0, 0, 3, 3, 0,\n",
       "       0, 0, 3, 3, 2, 0, 1, 2, 1, 3, 0, 0, 3, 1, 0, 1, 0, 0, 1, 0, 3, 3,\n",
       "       3, 2, 0, 2, 0, 0, 0, 0, 2, 0, 0, 3, 2, 2, 2, 0, 2, 1, 0, 2, 0, 1,\n",
       "       1, 2, 3, 3, 0, 3, 2, 0, 0, 1, 0, 3, 0, 1, 2, 3, 2, 1, 2, 0, 3, 3,\n",
       "       2, 1, 1, 0, 1, 0, 0, 1, 0, 2, 0, 2, 3, 3, 0, 1, 2, 0, 1, 1, 1, 3,\n",
       "       3, 0, 0, 0, 3, 2, 2, 2, 1, 2, 3, 3, 3, 0, 0, 3, 3, 3, 3, 0, 3, 0,\n",
       "       0, 1, 3, 3, 3, 2, 0, 0, 0, 3, 2, 2, 2, 2, 3, 1, 2, 2, 1, 3, 1, 0,\n",
       "       2, 0, 3, 1, 3, 0, 0, 3, 3, 1, 3, 0, 0, 0, 0, 0, 2, 3, 0, 0, 0, 1,\n",
       "       0, 2, 0, 3, 2, 3, 0, 3, 2, 0, 1, 3, 0, 0, 1, 0, 2, 1, 3, 0, 3, 0,\n",
       "       3, 0, 3, 0, 0, 1, 2, 3, 0, 0, 1, 2, 0, 3, 0, 0, 0, 1, 0, 2, 1, 3,\n",
       "       0, 0, 2, 3, 3, 0, 1, 0, 0, 0, 3, 1, 3, 0, 0, 0, 2, 1, 0, 3, 0, 0,\n",
       "       2, 0, 2, 3, 0, 2, 1, 1, 0, 3, 0, 1, 0, 0, 0, 0, 0, 1, 0, 0, 0, 0,\n",
       "       2, 0, 1, 2, 3, 3, 0, 3, 0, 0, 0, 0, 3, 3, 3, 3, 0, 0, 0, 1, 1, 3,\n",
       "       0, 0, 0, 1, 0, 0, 1, 3, 0, 3, 0, 0, 0, 2, 2, 2, 3, 0, 3, 0, 0, 1,\n",
       "       3, 3, 3, 1, 2, 3, 0, 2, 0, 0, 3, 1, 1, 3, 1, 1, 3, 3, 0, 3, 0, 3,\n",
       "       0, 3, 1, 0, 1, 0, 3, 3, 0, 0, 2, 0, 1, 3, 3, 0, 1, 2, 0, 3, 3, 2,\n",
       "       3, 0, 0, 0, 0, 1, 3, 1, 0, 0, 1, 2, 3, 0, 0, 2, 2, 3, 3, 1, 2, 2,\n",
       "       1, 0, 3, 1, 0, 0, 2, 2, 0, 2, 2, 0, 1, 1, 3, 2, 2, 2, 3, 1, 1, 3,\n",
       "       2, 2, 2, 2, 2, 2, 1, 3, 3, 1, 3, 0, 2, 0, 2, 3, 0, 0, 0, 0, 2, 1,\n",
       "       1, 3, 0, 3, 3, 2, 2, 0, 0, 1, 0, 0, 2, 0, 3, 1, 3, 1, 1, 0, 1, 2,\n",
       "       3, 2, 2, 3, 2, 3, 0, 0, 2, 3, 0, 3, 3, 0, 2, 0, 0, 0, 1, 0, 0, 3,\n",
       "       3, 0, 3, 2, 3, 2, 0, 0, 1, 0, 3, 3, 2, 0, 0, 0, 1, 0, 0, 0, 0, 2,\n",
       "       3, 3, 2, 2, 0, 2, 3, 3, 0, 3, 0, 2, 3, 2, 1, 3, 0, 0, 1, 0, 3, 2,\n",
       "       2, 1, 1, 0, 3, 0, 3, 2, 0, 0, 0, 2, 3, 1, 1, 1, 1, 3, 2, 0, 3, 3,\n",
       "       0, 0, 3, 1, 0, 2, 1, 2, 2, 2, 1, 0, 0, 3, 2, 3, 0, 2, 3, 3, 1, 0,\n",
       "       3, 0, 3, 3, 0, 3, 1, 0, 0, 3, 0, 3])"
      ]
     },
     "execution_count": 26,
     "metadata": {},
     "output_type": "execute_result"
    }
   ],
   "source": [
    "label"
   ]
  },
  {
   "cell_type": "code",
   "execution_count": 27,
   "metadata": {},
   "outputs": [
    {
     "data": {
      "text/html": [
       "<div>\n",
       "<style scoped>\n",
       "    .dataframe tbody tr th:only-of-type {\n",
       "        vertical-align: middle;\n",
       "    }\n",
       "\n",
       "    .dataframe tbody tr th {\n",
       "        vertical-align: top;\n",
       "    }\n",
       "\n",
       "    .dataframe thead th {\n",
       "        text-align: right;\n",
       "    }\n",
       "</style>\n",
       "<table border=\"1\" class=\"dataframe\">\n",
       "  <thead>\n",
       "    <tr style=\"text-align: right;\">\n",
       "      <th></th>\n",
       "      <th>cluster</th>\n",
       "    </tr>\n",
       "  </thead>\n",
       "  <tbody>\n",
       "    <tr>\n",
       "      <th>0</th>\n",
       "      <td>1</td>\n",
       "    </tr>\n",
       "    <tr>\n",
       "      <th>1</th>\n",
       "      <td>1</td>\n",
       "    </tr>\n",
       "    <tr>\n",
       "      <th>2</th>\n",
       "      <td>0</td>\n",
       "    </tr>\n",
       "    <tr>\n",
       "      <th>3</th>\n",
       "      <td>0</td>\n",
       "    </tr>\n",
       "    <tr>\n",
       "      <th>4</th>\n",
       "      <td>3</td>\n",
       "    </tr>\n",
       "    <tr>\n",
       "      <th>...</th>\n",
       "      <td>...</td>\n",
       "    </tr>\n",
       "    <tr>\n",
       "      <th>975</th>\n",
       "      <td>0</td>\n",
       "    </tr>\n",
       "    <tr>\n",
       "      <th>976</th>\n",
       "      <td>0</td>\n",
       "    </tr>\n",
       "    <tr>\n",
       "      <th>977</th>\n",
       "      <td>3</td>\n",
       "    </tr>\n",
       "    <tr>\n",
       "      <th>978</th>\n",
       "      <td>0</td>\n",
       "    </tr>\n",
       "    <tr>\n",
       "      <th>979</th>\n",
       "      <td>3</td>\n",
       "    </tr>\n",
       "  </tbody>\n",
       "</table>\n",
       "<p>980 rows × 1 columns</p>\n",
       "</div>"
      ],
      "text/plain": [
       "     cluster\n",
       "0          1\n",
       "1          1\n",
       "2          0\n",
       "3          0\n",
       "4          3\n",
       "..       ...\n",
       "975        0\n",
       "976        0\n",
       "977        3\n",
       "978        0\n",
       "979        3\n",
       "\n",
       "[980 rows x 1 columns]"
      ]
     },
     "execution_count": 27,
     "metadata": {},
     "output_type": "execute_result"
    }
   ],
   "source": [
    "label1 =data_final=pd.DataFrame({'cluster':label})\n",
    "label1"
   ]
  },
  {
   "cell_type": "code",
   "execution_count": 28,
   "metadata": {},
   "outputs": [],
   "source": [
    "data_final=pd.concat([data,label1.cluster],axis=1)"
   ]
  },
  {
   "cell_type": "code",
   "execution_count": 29,
   "metadata": {},
   "outputs": [
    {
     "data": {
      "text/html": [
       "<div>\n",
       "<style scoped>\n",
       "    .dataframe tbody tr th:only-of-type {\n",
       "        vertical-align: middle;\n",
       "    }\n",
       "\n",
       "    .dataframe tbody tr th {\n",
       "        vertical-align: top;\n",
       "    }\n",
       "\n",
       "    .dataframe thead th {\n",
       "        text-align: right;\n",
       "    }\n",
       "</style>\n",
       "<table border=\"1\" class=\"dataframe\">\n",
       "  <thead>\n",
       "    <tr style=\"text-align: right;\">\n",
       "      <th></th>\n",
       "      <th>User ID</th>\n",
       "      <th>Category 1</th>\n",
       "      <th>Category 2</th>\n",
       "      <th>Category 3</th>\n",
       "      <th>Category 4</th>\n",
       "      <th>Category 5</th>\n",
       "      <th>Category 6</th>\n",
       "      <th>Category 7</th>\n",
       "      <th>Category 8</th>\n",
       "      <th>Category 9</th>\n",
       "      <th>Category 10</th>\n",
       "      <th>cluster</th>\n",
       "    </tr>\n",
       "  </thead>\n",
       "  <tbody>\n",
       "    <tr>\n",
       "      <th>0</th>\n",
       "      <td>User 1</td>\n",
       "      <td>0.93</td>\n",
       "      <td>1.80</td>\n",
       "      <td>2.29</td>\n",
       "      <td>0.62</td>\n",
       "      <td>0.80</td>\n",
       "      <td>2.42</td>\n",
       "      <td>3.19</td>\n",
       "      <td>2.79</td>\n",
       "      <td>1.82</td>\n",
       "      <td>2.42</td>\n",
       "      <td>1</td>\n",
       "    </tr>\n",
       "    <tr>\n",
       "      <th>1</th>\n",
       "      <td>User 2</td>\n",
       "      <td>1.02</td>\n",
       "      <td>2.20</td>\n",
       "      <td>2.66</td>\n",
       "      <td>0.64</td>\n",
       "      <td>1.42</td>\n",
       "      <td>3.18</td>\n",
       "      <td>3.21</td>\n",
       "      <td>2.63</td>\n",
       "      <td>1.86</td>\n",
       "      <td>2.32</td>\n",
       "      <td>1</td>\n",
       "    </tr>\n",
       "    <tr>\n",
       "      <th>2</th>\n",
       "      <td>User 3</td>\n",
       "      <td>1.22</td>\n",
       "      <td>0.80</td>\n",
       "      <td>0.54</td>\n",
       "      <td>0.53</td>\n",
       "      <td>0.24</td>\n",
       "      <td>1.54</td>\n",
       "      <td>3.18</td>\n",
       "      <td>2.80</td>\n",
       "      <td>1.31</td>\n",
       "      <td>2.50</td>\n",
       "      <td>0</td>\n",
       "    </tr>\n",
       "    <tr>\n",
       "      <th>3</th>\n",
       "      <td>User 4</td>\n",
       "      <td>0.45</td>\n",
       "      <td>1.80</td>\n",
       "      <td>0.29</td>\n",
       "      <td>0.57</td>\n",
       "      <td>0.46</td>\n",
       "      <td>1.52</td>\n",
       "      <td>3.18</td>\n",
       "      <td>2.96</td>\n",
       "      <td>1.57</td>\n",
       "      <td>2.86</td>\n",
       "      <td>0</td>\n",
       "    </tr>\n",
       "    <tr>\n",
       "      <th>4</th>\n",
       "      <td>User 5</td>\n",
       "      <td>0.51</td>\n",
       "      <td>1.20</td>\n",
       "      <td>1.18</td>\n",
       "      <td>0.57</td>\n",
       "      <td>1.54</td>\n",
       "      <td>2.02</td>\n",
       "      <td>3.18</td>\n",
       "      <td>2.78</td>\n",
       "      <td>1.18</td>\n",
       "      <td>2.54</td>\n",
       "      <td>3</td>\n",
       "    </tr>\n",
       "    <tr>\n",
       "      <th>...</th>\n",
       "      <td>...</td>\n",
       "      <td>...</td>\n",
       "      <td>...</td>\n",
       "      <td>...</td>\n",
       "      <td>...</td>\n",
       "      <td>...</td>\n",
       "      <td>...</td>\n",
       "      <td>...</td>\n",
       "      <td>...</td>\n",
       "      <td>...</td>\n",
       "      <td>...</td>\n",
       "      <td>...</td>\n",
       "    </tr>\n",
       "    <tr>\n",
       "      <th>975</th>\n",
       "      <td>User 976</td>\n",
       "      <td>0.74</td>\n",
       "      <td>1.12</td>\n",
       "      <td>0.30</td>\n",
       "      <td>0.53</td>\n",
       "      <td>0.88</td>\n",
       "      <td>1.38</td>\n",
       "      <td>3.17</td>\n",
       "      <td>2.78</td>\n",
       "      <td>0.99</td>\n",
       "      <td>3.20</td>\n",
       "      <td>0</td>\n",
       "    </tr>\n",
       "    <tr>\n",
       "      <th>976</th>\n",
       "      <td>User 977</td>\n",
       "      <td>1.25</td>\n",
       "      <td>0.92</td>\n",
       "      <td>1.12</td>\n",
       "      <td>0.38</td>\n",
       "      <td>0.78</td>\n",
       "      <td>1.68</td>\n",
       "      <td>3.18</td>\n",
       "      <td>2.79</td>\n",
       "      <td>1.34</td>\n",
       "      <td>2.80</td>\n",
       "      <td>0</td>\n",
       "    </tr>\n",
       "    <tr>\n",
       "      <th>977</th>\n",
       "      <td>User 978</td>\n",
       "      <td>0.61</td>\n",
       "      <td>1.32</td>\n",
       "      <td>0.67</td>\n",
       "      <td>0.43</td>\n",
       "      <td>1.30</td>\n",
       "      <td>1.78</td>\n",
       "      <td>3.17</td>\n",
       "      <td>2.81</td>\n",
       "      <td>1.34</td>\n",
       "      <td>3.02</td>\n",
       "      <td>3</td>\n",
       "    </tr>\n",
       "    <tr>\n",
       "      <th>978</th>\n",
       "      <td>User 979</td>\n",
       "      <td>0.93</td>\n",
       "      <td>0.20</td>\n",
       "      <td>0.13</td>\n",
       "      <td>0.43</td>\n",
       "      <td>0.30</td>\n",
       "      <td>0.40</td>\n",
       "      <td>3.18</td>\n",
       "      <td>2.98</td>\n",
       "      <td>1.12</td>\n",
       "      <td>2.46</td>\n",
       "      <td>0</td>\n",
       "    </tr>\n",
       "    <tr>\n",
       "      <th>979</th>\n",
       "      <td>User 980</td>\n",
       "      <td>0.93</td>\n",
       "      <td>0.56</td>\n",
       "      <td>1.13</td>\n",
       "      <td>0.51</td>\n",
       "      <td>1.34</td>\n",
       "      <td>2.36</td>\n",
       "      <td>3.18</td>\n",
       "      <td>2.87</td>\n",
       "      <td>1.34</td>\n",
       "      <td>2.40</td>\n",
       "      <td>3</td>\n",
       "    </tr>\n",
       "  </tbody>\n",
       "</table>\n",
       "<p>980 rows × 12 columns</p>\n",
       "</div>"
      ],
      "text/plain": [
       "      User ID  Category 1  Category 2  Category 3  Category 4  Category 5  \\\n",
       "0      User 1        0.93        1.80        2.29        0.62        0.80   \n",
       "1      User 2        1.02        2.20        2.66        0.64        1.42   \n",
       "2      User 3        1.22        0.80        0.54        0.53        0.24   \n",
       "3      User 4        0.45        1.80        0.29        0.57        0.46   \n",
       "4      User 5        0.51        1.20        1.18        0.57        1.54   \n",
       "..        ...         ...         ...         ...         ...         ...   \n",
       "975  User 976        0.74        1.12        0.30        0.53        0.88   \n",
       "976  User 977        1.25        0.92        1.12        0.38        0.78   \n",
       "977  User 978        0.61        1.32        0.67        0.43        1.30   \n",
       "978  User 979        0.93        0.20        0.13        0.43        0.30   \n",
       "979  User 980        0.93        0.56        1.13        0.51        1.34   \n",
       "\n",
       "     Category 6  Category 7  Category 8  Category 9  Category 10  cluster  \n",
       "0          2.42        3.19        2.79        1.82         2.42        1  \n",
       "1          3.18        3.21        2.63        1.86         2.32        1  \n",
       "2          1.54        3.18        2.80        1.31         2.50        0  \n",
       "3          1.52        3.18        2.96        1.57         2.86        0  \n",
       "4          2.02        3.18        2.78        1.18         2.54        3  \n",
       "..          ...         ...         ...         ...          ...      ...  \n",
       "975        1.38        3.17        2.78        0.99         3.20        0  \n",
       "976        1.68        3.18        2.79        1.34         2.80        0  \n",
       "977        1.78        3.17        2.81        1.34         3.02        3  \n",
       "978        0.40        3.18        2.98        1.12         2.46        0  \n",
       "979        2.36        3.18        2.87        1.34         2.40        3  \n",
       "\n",
       "[980 rows x 12 columns]"
      ]
     },
     "execution_count": 29,
     "metadata": {},
     "output_type": "execute_result"
    }
   ],
   "source": [
    "data_final"
   ]
  },
  {
   "cell_type": "code",
   "execution_count": 30,
   "metadata": {},
   "outputs": [
    {
     "data": {
      "text/plain": [
       "0    355\n",
       "3    268\n",
       "2    182\n",
       "1    175\n",
       "Name: cluster, dtype: int64"
      ]
     },
     "execution_count": 30,
     "metadata": {},
     "output_type": "execute_result"
    }
   ],
   "source": [
    "data_final['cluster'].value_counts()"
   ]
  },
  {
   "cell_type": "code",
   "execution_count": 33,
   "metadata": {},
   "outputs": [],
   "source": [
    "data_final.to_csv(\"tripadvisor_result.csv\")"
   ]
  },
  {
   "cell_type": "code",
   "execution_count": 34,
   "metadata": {},
   "outputs": [
    {
     "data": {
      "text/plain": [
       "'C:\\\\Users\\\\Garima\\\\Desktop\\\\DATA SCIENCE\\\\python\\\\CLUSTERRING'"
      ]
     },
     "execution_count": 34,
     "metadata": {},
     "output_type": "execute_result"
    }
   ],
   "source": [
    "os.getcwd()"
   ]
  },
  {
   "cell_type": "code",
   "execution_count": null,
   "metadata": {},
   "outputs": [],
   "source": []
  }
 ],
 "metadata": {
  "kernelspec": {
   "display_name": "Python 3",
   "language": "python",
   "name": "python3"
  },
  "language_info": {
   "codemirror_mode": {
    "name": "ipython",
    "version": 3
   },
   "file_extension": ".py",
   "mimetype": "text/x-python",
   "name": "python",
   "nbconvert_exporter": "python",
   "pygments_lexer": "ipython3",
   "version": "3.8.5"
  }
 },
 "nbformat": 4,
 "nbformat_minor": 4
}
